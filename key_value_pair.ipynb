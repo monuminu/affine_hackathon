{
  "nbformat": 4,
  "nbformat_minor": 0,
  "metadata": {
    "colab": {
      "name": "Untitled10.ipynb",
      "provenance": [],
      "collapsed_sections": [],
      "authorship_tag": "ABX9TyMgo7UUtWEwpMyZhK/hoUHN",
      "include_colab_link": true
    },
    "kernelspec": {
      "name": "python3",
      "display_name": "Python 3"
    }
  },
  "cells": [
    {
      "cell_type": "markdown",
      "metadata": {
        "id": "view-in-github",
        "colab_type": "text"
      },
      "source": [
        "<a href=\"https://colab.research.google.com/github/monuminu/affine_hackathon/blob/master/key_value_pair.ipynb\" target=\"_parent\"><img src=\"https://colab.research.google.com/assets/colab-badge.svg\" alt=\"Open In Colab\"/></a>"
      ]
    },
    {
      "cell_type": "code",
      "metadata": {
        "id": "1wsh5MCYO-sP",
        "outputId": "bb580c7e-eaf8-4229-ffd4-0307eb0563ff",
        "colab": {
          "base_uri": "https://localhost:8080/",
          "height": 542
        }
      },
      "source": [
        "import cv2\n",
        "import argparse\n",
        "import numpy as np\n",
        "!pip install opencv-wrapper\n",
        "import opencv_wrapper as cvw\n",
        "from skimage.filters import threshold_local\n",
        "import json"
      ],
      "execution_count": 1,
      "outputs": [
        {
          "output_type": "stream",
          "text": [
            "Collecting opencv-wrapper\n",
            "  Downloading https://files.pythonhosted.org/packages/a6/35/07177ec8074623831493c793643b6ec8c444fbc0d7f73a9dfdba486ce65a/opencv-wrapper-0.2.3.tar.gz\n",
            "Collecting numpy<=1.16.2\n",
            "\u001b[?25l  Downloading https://files.pythonhosted.org/packages/35/d5/4f8410ac303e690144f0a0603c4b8fd3b986feb2749c435f7cdbb288f17e/numpy-1.16.2-cp36-cp36m-manylinux1_x86_64.whl (17.3MB)\n",
            "\u001b[K     |████████████████████████████████| 17.3MB 67.7MB/s \n",
            "\u001b[?25hCollecting opencv-python<=4.0.1\n",
            "\u001b[?25l  Downloading https://files.pythonhosted.org/packages/37/49/874d119948a5a084a7ebe98308214098ef3471d76ab74200f9800efeef15/opencv_python-4.0.0.21-cp36-cp36m-manylinux1_x86_64.whl (25.4MB)\n",
            "\u001b[K     |████████████████████████████████| 25.4MB 114kB/s \n",
            "\u001b[?25hRequirement already satisfied: dataclasses in /usr/local/lib/python3.6/dist-packages (from opencv-wrapper) (0.7)\n",
            "Building wheels for collected packages: opencv-wrapper\n",
            "  Building wheel for opencv-wrapper (setup.py) ... \u001b[?25l\u001b[?25hdone\n",
            "  Created wheel for opencv-wrapper: filename=opencv_wrapper-0.2.3-py2.py3-none-any.whl size=18581 sha256=3e0cbfc56d16788f3760fd36dab37e66ea7ec2b477c5c1cb8d4f3f631eacbd60\n",
            "  Stored in directory: /root/.cache/pip/wheels/74/fc/22/03106b3bcb2516e69317562a2aa4ceb94b0d5813a448edd928\n",
            "Successfully built opencv-wrapper\n",
            "\u001b[31mERROR: umap-learn 0.4.6 has requirement numpy>=1.17, but you'll have numpy 1.16.2 which is incompatible.\u001b[0m\n",
            "\u001b[31mERROR: datascience 0.10.6 has requirement folium==0.2.1, but you'll have folium 0.8.3 which is incompatible.\u001b[0m\n",
            "\u001b[31mERROR: albumentations 0.1.12 has requirement imgaug<0.2.7,>=0.2.5, but you'll have imgaug 0.2.9 which is incompatible.\u001b[0m\n",
            "Installing collected packages: numpy, opencv-python, opencv-wrapper\n",
            "  Found existing installation: numpy 1.18.5\n",
            "    Uninstalling numpy-1.18.5:\n",
            "      Successfully uninstalled numpy-1.18.5\n",
            "  Found existing installation: opencv-python 4.1.2.30\n",
            "    Uninstalling opencv-python-4.1.2.30:\n",
            "      Successfully uninstalled opencv-python-4.1.2.30\n",
            "Successfully installed numpy-1.16.2 opencv-python-4.0.0.21 opencv-wrapper-0.2.3\n"
          ],
          "name": "stdout"
        },
        {
          "output_type": "display_data",
          "data": {
            "application/vnd.colab-display-data+json": {
              "pip_warning": {
                "packages": [
                  "cv2",
                  "numpy"
                ]
              }
            }
          },
          "metadata": {
            "tags": []
          }
        }
      ]
    },
    {
      "cell_type": "code",
      "metadata": {
        "id": "S4EpWcIUPA_c",
        "outputId": "49eed97a-b4ce-4004-e57e-e8843e5c06f8",
        "colab": {
          "base_uri": "https://localhost:8080/"
        }
      },
      "source": [
        "from google.colab import drive\n",
        "drive.mount('/content/gdrive')\n",
        "\n",
        "!pip install -U git+https://github.com/madmaze/pytesseract.git\n",
        "\n",
        "import pytesseract\n",
        "!sudo apt install tesseract-ocr\n",
        "!pip install colorama"
      ],
      "execution_count": 2,
      "outputs": [
        {
          "output_type": "stream",
          "text": [
            "Mounted at /content/gdrive\n",
            "Collecting git+https://github.com/madmaze/pytesseract.git\n",
            "  Cloning https://github.com/madmaze/pytesseract.git to /tmp/pip-req-build-1y03g5zn\n",
            "  Running command git clone -q https://github.com/madmaze/pytesseract.git /tmp/pip-req-build-1y03g5zn\n",
            "Requirement already satisfied, skipping upgrade: Pillow in /usr/local/lib/python3.6/dist-packages (from pytesseract==0.3.6) (7.0.0)\n",
            "Building wheels for collected packages: pytesseract\n",
            "  Building wheel for pytesseract (setup.py) ... \u001b[?25l\u001b[?25hdone\n",
            "  Created wheel for pytesseract: filename=pytesseract-0.3.6-py2.py3-none-any.whl size=13690 sha256=0db66733c15dd93c75602442ef3b11fb1ba979af514eb3b1564e9fd80e242765\n",
            "  Stored in directory: /tmp/pip-ephem-wheel-cache-y5mnjmpd/wheels/be/2a/a1/a40dbc7e579dffb2be8bbc3243c491de2d132899309f008b1f\n",
            "Successfully built pytesseract\n",
            "Installing collected packages: pytesseract\n",
            "Successfully installed pytesseract-0.3.6\n",
            "Reading package lists... Done\n",
            "Building dependency tree       \n",
            "Reading state information... Done\n",
            "The following additional packages will be installed:\n",
            "  tesseract-ocr-eng tesseract-ocr-osd\n",
            "The following NEW packages will be installed:\n",
            "  tesseract-ocr tesseract-ocr-eng tesseract-ocr-osd\n",
            "0 upgraded, 3 newly installed, 0 to remove and 11 not upgraded.\n",
            "Need to get 4,795 kB of archives.\n",
            "After this operation, 15.8 MB of additional disk space will be used.\n",
            "Get:1 http://archive.ubuntu.com/ubuntu bionic/universe amd64 tesseract-ocr-eng all 4.00~git24-0e00fe6-1.2 [1,588 kB]\n",
            "Get:2 http://archive.ubuntu.com/ubuntu bionic/universe amd64 tesseract-ocr-osd all 4.00~git24-0e00fe6-1.2 [2,989 kB]\n",
            "Get:3 http://archive.ubuntu.com/ubuntu bionic/universe amd64 tesseract-ocr amd64 4.00~git2288-10f4998a-2 [218 kB]\n",
            "Fetched 4,795 kB in 3s (1,659 kB/s)\n",
            "debconf: unable to initialize frontend: Dialog\n",
            "debconf: (No usable dialog-like program is installed, so the dialog based frontend cannot be used. at /usr/share/perl5/Debconf/FrontEnd/Dialog.pm line 76, <> line 3.)\n",
            "debconf: falling back to frontend: Readline\n",
            "debconf: unable to initialize frontend: Readline\n",
            "debconf: (This frontend requires a controlling tty.)\n",
            "debconf: falling back to frontend: Teletype\n",
            "dpkg-preconfigure: unable to re-open stdin: \n",
            "Selecting previously unselected package tesseract-ocr-eng.\n",
            "(Reading database ... 144628 files and directories currently installed.)\n",
            "Preparing to unpack .../tesseract-ocr-eng_4.00~git24-0e00fe6-1.2_all.deb ...\n",
            "Unpacking tesseract-ocr-eng (4.00~git24-0e00fe6-1.2) ...\n",
            "Selecting previously unselected package tesseract-ocr-osd.\n",
            "Preparing to unpack .../tesseract-ocr-osd_4.00~git24-0e00fe6-1.2_all.deb ...\n",
            "Unpacking tesseract-ocr-osd (4.00~git24-0e00fe6-1.2) ...\n",
            "Selecting previously unselected package tesseract-ocr.\n",
            "Preparing to unpack .../tesseract-ocr_4.00~git2288-10f4998a-2_amd64.deb ...\n",
            "Unpacking tesseract-ocr (4.00~git2288-10f4998a-2) ...\n",
            "Setting up tesseract-ocr-osd (4.00~git24-0e00fe6-1.2) ...\n",
            "Setting up tesseract-ocr-eng (4.00~git24-0e00fe6-1.2) ...\n",
            "Setting up tesseract-ocr (4.00~git2288-10f4998a-2) ...\n",
            "Processing triggers for man-db (2.8.3-2ubuntu0.1) ...\n",
            "Collecting colorama\n",
            "  Downloading https://files.pythonhosted.org/packages/44/98/5b86278fbbf250d239ae0ecb724f8572af1c91f4a11edf4d36a206189440/colorama-0.4.4-py2.py3-none-any.whl\n",
            "Installing collected packages: colorama\n",
            "Successfully installed colorama-0.4.4\n"
          ],
          "name": "stdout"
        }
      ]
    },
    {
      "cell_type": "code",
      "metadata": {
        "id": "nCGq3DyTPCjl"
      },
      "source": [
        "\n",
        "# ap = argparse.ArgumentParser()\n",
        "# ap.add_argument(\"-i\", \"--image\", required = True, help = \"Path to the image to be scanned\")\n",
        "# ap.add_argument(\"-o\", \"--output\", required = True, help = \"Path to the image to be scanned\")\n",
        "# args = vars(ap.parse_args())\n",
        "\n",
        "\n",
        "def get_acc(directory, path):\n",
        "    font     = cv2.FONT_HERSHEY_SIMPLEX\n",
        "    fontScale = 0.5\n",
        "    fontColor  = (255,0,0)\n",
        "    lineType = 1\n",
        "    path = directory+path\n",
        "    # path = args['image']\n",
        "    # op_path = args['output']\n",
        "\n",
        "    op_path = directory\n",
        "    if op_path[-1]!='/':\n",
        "    \top_path.append('/')\n",
        "\n",
        "\n",
        "    #Threshold\n",
        "    image = cv2.imread(path)\n",
        "\n",
        "    height,width,channel = image.shape\n",
        "\n",
        "    gray = cv2.cvtColor(image, cv2.COLOR_BGR2GRAY)\n",
        "\n",
        "    T = threshold_local(gray, 15, offset = 6, method = \"gaussian\") # generic, mean, median, gaussian\n",
        "    thresh = (gray > T).astype(\"uint8\") * 255\n",
        "    thresh = ~thresh\n",
        "\n",
        "    #cv2.imwrite(op_path+'threshold.png', thresh)\n",
        "\n",
        "    #Dilation\n",
        "    kernel =np.ones((1,1), np.uint8)\n",
        "    ero = cv2.erode(thresh, kernel, iterations= 1)\n",
        "    img_dilation = cv2.dilate(ero, kernel, iterations=1)\n",
        "    #cv2.imwrite(op_path+'dilated.png', img_dilation)\n",
        "\n",
        "    # Remove noise\n",
        "    nlabels, labels, stats, centroids = cv2.connectedComponentsWithStats(img_dilation, None, None, None, 8, cv2.CV_32S)\n",
        "    sizes = stats[1:, -1] #get CC_STAT_AREA component\n",
        "    final = np.zeros((labels.shape), np.uint8)\n",
        "    for i in range(0, nlabels - 1):\n",
        "        if sizes[i] >= 10:   #filter small dotted regions\n",
        "            final[labels == i + 1] = 255\n",
        "    #cv2.imwrite(op_path+'final.png', final)\n",
        "    #Find contours\n",
        "    kern = np.ones((5,15), np.uint8)\n",
        "    img_dilation = cv2.dilate(final, kern, iterations = 1)\n",
        "    #cv2.imwrite(op_path+'contours.png', img_dilation)\n",
        "    contours, hierarchy = cv2.findContours(img_dilation, cv2.RETR_LIST, cv2.CHAIN_APPROX_NONE)\n",
        "    # Map contours to bounding rectangles, using bounding_rect property\n",
        "    rects = map(lambda c: cv2.boundingRect(c), contours)\n",
        "    # Sort rects by top-left x (rect.x == rect.tl.x)\n",
        "    sorted_rects = sorted(rects, key =lambda r: r[0])\n",
        "    sorted_rects = sorted(sorted_rects, key =lambda r: r[1])\n",
        "\n",
        "    tt = image.copy()\n",
        "    dictionary = {}\n",
        "    etfo=''\n",
        "    for i,rect in enumerate(sorted_rects):\n",
        "        temp_dic = {}\n",
        "        x,y,w,h = rect\n",
        "        if(w<20 or h<20):\n",
        "            continue\n",
        "        temp_dic['coords'] = [x,y,w,h]\n",
        "        words = []\n",
        "        temp = tt[y:y+h, x:x+w]\n",
        "        #cv2.imwrite('/content/gdrive/My Drive/ResearchPaper/AIESI_complete_pipeline/temp/'+str(i)+'.png',temp)\n",
        "        temp = cv2.cvtColor(temp, cv2.COLOR_BGR2RGB)\n",
        "        hi = pytesseract.image_to_data(temp, config=r'--psm 6')\n",
        "        hi = hi.split()\n",
        "        ind = 22\n",
        "        while(True):\n",
        "            if (ind>len(hi)):\n",
        "                break\n",
        "            if(int(hi[ind])==-1):\n",
        "                ind+=11\n",
        "            else:\n",
        "                #cv2.putText(image,hi[ind]+','+hi[ind+1], (x,y), font, fontScale,fontColor,lineType)\n",
        "                tem = {}\n",
        "                tem['confidence'] = hi[ind]\n",
        "                tem['text'] = hi[ind+1]\n",
        "                etfo=etfo+hi[ind+1]\n",
        "                etfo=etfo+\" \"\n",
        "                x+=len(hi[ind+1])*20\n",
        "                ind+=12\n",
        "                words.append(tem)\n",
        "        temp_dic['words'] = words\n",
        "        etfo=etfo+'\\n'\n",
        "        #cvw.rectangle(image, rect, cvw.Color.GREEN, thickness=1)\n",
        "        dictionary[i] = temp_dic\n",
        "\n",
        "\n",
        "    cv2.imwrite(op_path+\"result.png\", image)\n",
        "    return json.dumps(dictionary),etfo\n"
      ],
      "execution_count": 3,
      "outputs": []
    },
    {
      "cell_type": "code",
      "metadata": {
        "id": "9CUtUzSaPeyp",
        "outputId": "5fa9c742-ada7-4a2a-cc62-6e9e4779efcb",
        "colab": {
          "base_uri": "https://localhost:8080/"
        }
      },
      "source": [
        "\n",
        "gson_data, etfo = get_acc('/content/gdrive/My Drive/datascience/','098.jpg')\n",
        "print(gson_data)\n"
      ],
      "execution_count": 68,
      "outputs": [
        {
          "output_type": "stream",
          "text": [
            "{\"9\": {\"coords\": [66, 56, 37, 46], \"words\": [{\"confidence\": \"76\", \"text\": \"3\"}]}, \"10\": {\"coords\": [128, 61, 20, 29], \"words\": []}, \"11\": {\"coords\": [159, 61, 90, 43], \"words\": [{\"confidence\": \"14\", \"text\": \"O\"}, {\"confidence\": \"14\", \"text\": \"td\"}]}, \"12\": {\"coords\": [250, 66, 98, 36], \"words\": [{\"confidence\": \"33\", \"text\": \"OF?\"}]}, \"15\": {\"coords\": [506, 129, 44, 33], \"words\": [{\"confidence\": \"40\", \"text\": \"il\"}, {\"confidence\": \"0\", \"text\": \"ft\"}]}, \"20\": {\"coords\": [443, 220, 43, 32], \"words\": []}, \"22\": {\"coords\": [57, 306, 88, 30], \"words\": [{\"confidence\": \"91\", \"text\": \"WAHIN\"}]}, \"23\": {\"coords\": [148, 308, 134, 30], \"words\": [{\"confidence\": \"95\", \"text\": \"HARDWARE\"}]}, \"24\": {\"coords\": [285, 309, 58, 29], \"words\": [{\"confidence\": \"79\", \"text\": \"SIN\"}]}, \"25\": {\"coords\": [346, 309, 57, 29], \"words\": [{\"confidence\": \"87\", \"text\": \"BHO\"}]}, \"26\": {\"coords\": [59, 342, 132, 35], \"words\": [{\"confidence\": \"89\", \"text\": \"148481-U\"}]}, \"27\": {\"coords\": [58, 387, 69, 36], \"words\": [{\"confidence\": \"76\", \"text\": \"425,\"}]}, \"28\": {\"coords\": [134, 388, 88, 29], \"words\": [{\"confidence\": \"94\", \"text\": \"JALAN\"}]}, \"29\": {\"coords\": [225, 389, 115, 35], \"words\": [{\"confidence\": \"93\", \"text\": \"PAHANG,\"}]}, \"30\": {\"coords\": [57, 427, 131, 36], \"words\": [{\"confidence\": \"90\", \"text\": \"SETAPAK,\"}]}, \"31\": {\"coords\": [195, 429, 88, 28], \"words\": [{\"confidence\": \"95\", \"text\": \"53000\"}]}, \"32\": {\"coords\": [286, 429, 88, 29], \"words\": [{\"confidence\": \"70\", \"text\": \"KUALA\"}]}, \"33\": {\"coords\": [377, 429, 115, 29], \"words\": [{\"confidence\": \"66\", \"text\": \"LUMPUR.\"}]}, \"36\": {\"coords\": [498, 467, 144, 34], \"words\": [{\"confidence\": \"77\", \"text\": \"402189764,\"}]}, \"37\": {\"coords\": [58, 468, 70, 29], \"words\": [{\"confidence\": \"95\", \"text\": \"TEL:\"}]}, \"38\": {\"coords\": [134, 469, 206, 36], \"words\": [{\"confidence\": \"86\", \"text\": \"603-40232487,\"}]}, \"39\": {\"coords\": [347, 469, 144, 35], \"words\": [{\"confidence\": \"91\", \"text\": \"40238191,\"}]}, \"40\": {\"coords\": [58, 508, 100, 29], \"words\": [{\"confidence\": \"95\", \"text\": \"STORE:\"}]}, \"41\": {\"coords\": [393, 508, 204, 30], \"words\": [{\"confidence\": \"86\", \"text\": \"603-40217507.\"}]}, \"42\": {\"coords\": [165, 509, 133, 29], \"words\": [{\"confidence\": \"88\", \"text\": \"40225409\"}]}, \"43\": {\"coords\": [302, 510, 57, 28], \"words\": [{\"confidence\": \"93\", \"text\": \"FAX\"}]}, \"45\": {\"coords\": [366, 516, 20, 22], \"words\": []}, \"47\": {\"coords\": [58, 549, 58, 33], \"words\": [{\"confidence\": \"95\", \"text\": \"GST\"}]}, \"48\": {\"coords\": [119, 549, 104, 28], \"words\": [{\"confidence\": \"94\", \"text\": \"Number\"}]}, \"49\": {\"coords\": [257, 550, 193, 29], \"words\": [{\"confidence\": \"93\", \"text\": \"000048898048\"}]}, \"50\": {\"coords\": [229, 557, 21, 21], \"words\": []}, \"51\": {\"coords\": [211, 590, 58, 29], \"words\": [{\"confidence\": \"95\", \"text\": \"TAX\"}]}, \"52\": {\"coords\": [273, 590, 117, 29], \"words\": [{\"confidence\": \"95\", \"text\": \"INVOICE\"}]}, \"53\": {\"coords\": [61, 630, 116, 28], \"words\": [{\"confidence\": \"94\", \"text\": \"Invoice\"}]}, \"54\": {\"coords\": [181, 630, 69, 29], \"words\": [{\"confidence\": \"40\", \"text\": \"Now:\"}]}, \"55\": {\"coords\": [272, 631, 148, 28], \"words\": [{\"confidence\": \"66\", \"text\": \"CS0013132\"}]}, \"56\": {\"coords\": [484, 669, 42, 29], \"words\": [{\"confidence\": \"88\", \"text\": \"FH\"}]}, \"57\": {\"coords\": [59, 670, 73, 28], \"words\": [{\"confidence\": \"33\", \"text\": \"late\"}]}, \"58\": {\"coords\": [258, 670, 132, 29], \"words\": [{\"confidence\": \"95\", \"text\": \"04/12/17\"}]}, \"59\": {\"coords\": [408, 670, 72, 28], \"words\": [{\"confidence\": \"92\", \"text\": \"5:06\"}]}, \"60\": {\"coords\": [215, 677, 21, 21], \"words\": []}, \"62\": {\"coords\": [60, 709, 118, 29], \"words\": [{\"confidence\": \"95\", \"text\": \"Cashier\"}]}, \"63\": {\"coords\": [257, 710, 88, 28], \"words\": [{\"confidence\": \"90\", \"text\": \"WAHIN\"}]}, \"64\": {\"coords\": [215, 717, 21, 21], \"words\": []}, \"68\": {\"coords\": [77, 789, 238, 36], \"words\": [{\"confidence\": \"20\", \"text\": \"ItemPescription\"}]}, \"71\": {\"coords\": [515, 828, 103, 29], \"words\": [{\"confidence\": \"53\", \"text\": \"Anount\"}]}, \"72\": {\"coords\": [75, 830, 134, 36], \"words\": [{\"confidence\": \"96\", \"text\": \"Quantity\"}]}, \"73\": {\"coords\": [410, 830, 84, 34], \"words\": [{\"confidence\": \"64\", \"text\": \"Inc.)\"}]}, \"74\": {\"coords\": [243, 831, 87, 28], \"words\": [{\"confidence\": \"95\", \"text\": \"Price\"}]}, \"75\": {\"coords\": [337, 831, 69, 34], \"words\": [{\"confidence\": \"81\", \"text\": \"(GST\"}]}, \"79\": {\"coords\": [364, 910, 103, 29], \"words\": [{\"confidence\": \"96\", \"text\": \"REFILL\"}]}, \"80\": {\"coords\": [182, 911, 72, 29], \"words\": [{\"confidence\": \"78\", \"text\": \"HINI\"}]}, \"81\": {\"coords\": [258, 911, 103, 29], \"words\": [{\"confidence\": \"95\", \"text\": \"ROLLER\"}]}, \"82\": {\"coords\": [123, 912, 53, 28], \"words\": [{\"confidence\": \"89\", \"text\": \"14\\\"\"}]}, \"87\": {\"coords\": [515, 949, 128, 29], \"words\": [{\"confidence\": \"70\", \"text\": \"5,30\"}, {\"confidence\": \"86\", \"text\": \"SR\"}]}, \"88\": {\"coords\": [288, 951, 103, 28], \"words\": [{\"confidence\": \"80\", \"text\": \"?\"}, {\"confidence\": \"51\", \"text\": \"6500\"}]}, \"89\": {\"coords\": [167, 952, 27, 28], \"words\": [{\"confidence\": \"94\", \"text\": \"2\"}]}, \"94\": {\"coords\": [425, 990, 103, 29], \"words\": [{\"confidence\": \"68\", \"text\": \"HANDLE\"}]}, \"95\": {\"coords\": [243, 991, 179, 29], \"words\": [{\"confidence\": \"89\", \"text\": \"ROLLERPAINT\"}]}, \"96\": {\"coords\": [122, 992, 115, 28], \"words\": [{\"confidence\": \"65\", \"text\": \"24\\\"X18\\\"\"}]}, \"99\": {\"coords\": [592, 1029, 42, 28], \"words\": [{\"confidence\": \"75\", \"text\": \"SR\"}]}, \"100\": {\"coords\": [516, 1030, 72, 28], \"words\": [{\"confidence\": \"90\", \"text\": \"6.46\"}]}, \"101\": {\"coords\": [289, 1031, 103, 29], \"words\": [{\"confidence\": \"91\", \"text\": \"3.1800\"}]}, \"102\": {\"coords\": [167, 1032, 27, 28], \"words\": [{\"confidence\": \"86\", \"text\": \"?\"}]}, \"104\": {\"coords\": [425, 1070, 89, 29], \"words\": [{\"confidence\": \"94\", \"text\": \"FAINT\"}]}, \"105\": {\"coords\": [335, 1071, 88, 28], \"words\": [{\"confidence\": \"74\", \"text\": \"OXIDE\"}]}, \"106\": {\"coords\": [122, 1072, 119, 28], \"words\": [{\"confidence\": \"5\", \"text\": \"33,5LRT\"}]}, \"107\": {\"coords\": [244, 1072, 87, 28], \"words\": [{\"confidence\": \"96\", \"text\": \"BLACK\"}]}, \"110\": {\"coords\": [593, 1108, 42, 29], \"words\": [{\"confidence\": \"85\", \"text\": \"Sk\"}]}, \"111\": {\"coords\": [501, 1109, 88, 28], \"words\": [{\"confidence\": \"94\", \"text\": \"30.74\"}]}, \"112\": {\"coords\": [274, 1111, 118, 29], \"words\": [{\"confidence\": \"94\", \"text\": \"30.7400\"}]}, \"113\": {\"coords\": [169, 1112, 24, 28], \"words\": [{\"confidence\": \"58\", \"text\": \"1\"}]}, \"117\": {\"coords\": [441, 1190, 88, 29], \"words\": [{\"confidence\": \"92\", \"text\": \"40.00\"}]}, \"118\": {\"coords\": [92, 1192, 194, 34], \"words\": [{\"confidence\": \"96\", \"text\": \"Gross\"}, {\"confidence\": \"96\", \"text\": \"Amount\"}]}, \"119\": {\"coords\": [308, 1198, 27, 25], \"words\": []}, \"121\": {\"coords\": [456, 1230, 73, 28], \"words\": [{\"confidence\": \"64\", \"text\": \"2.40\"}]}, \"123\": {\"coords\": [183, 1232, 58, 29], \"words\": [{\"confidence\": \"95\", \"text\": \"GST\"}]}, \"124\": {\"coords\": [245, 1232, 56, 28], \"words\": [{\"confidence\": \"94\", \"text\": \"Amt\"}]}, \"125\": {\"coords\": [92, 1233, 88, 29], \"words\": [{\"confidence\": \"95\", \"text\": \"Total\"}]}, \"126\": {\"coords\": [308, 1238, 21, 22], \"words\": []}, \"127\": {\"coords\": [442, 1272, 87, 28], \"words\": [{\"confidence\": \"34\", \"text\": \"4?\"}, {\"confidence\": \"53\", \"text\": \"49\"}]}, \"128\": {\"coords\": [153, 1273, 88, 30], \"words\": [{\"confidence\": \"96\", \"text\": \"Total\"}]}, \"129\": {\"coords\": [91, 1274, 58, 29], \"words\": [{\"confidence\": \"96\", \"text\": \"Sub\"}]}, \"130\": {\"coords\": [0, 1279, 31, 604], \"words\": []}, \"131\": {\"coords\": [308, 1279, 21, 22], \"words\": []}, \"132\": {\"coords\": [427, 1312, 142, 108], \"words\": [{\"confidence\": \"79\", \"text\": \"0,00\"}, {\"confidence\": \"64\", \"text\": \"740\"}]}, \"133\": {\"coords\": [229, 1313, 69, 35], \"words\": [{\"confidence\": \"89\", \"text\": \"Adj.\"}]}, \"134\": {\"coords\": [92, 1314, 133, 35], \"words\": [{\"confidence\": \"96\", \"text\": \"Rounding\"}]}, \"135\": {\"coords\": [308, 1320, 21, 21], \"words\": []}, \"136\": {\"coords\": [444, 1340, 109, 53], \"words\": [{\"confidence\": \"44\", \"text\": \"42.40,\"}]}, \"137\": {\"coords\": [186, 1354, 67, 36], \"words\": [{\"confidence\": \"61\", \"text\": \"(RM)\"}]}, \"138\": {\"coords\": [92, 1355, 88, 29], \"words\": [{\"confidence\": \"94\", \"text\": \"Total\"}]}, \"139\": {\"coords\": [308, 1361, 21, 21], \"words\": []}, \"140\": {\"coords\": [92, 1394, 103, 30], \"words\": [{\"confidence\": \"95\", \"text\": \"Amount\"}]}, \"141\": {\"coords\": [199, 1394, 73, 29], \"words\": [{\"confidence\": \"86\", \"text\": \"Faid\"}]}, \"143\": {\"coords\": [308, 1400, 21, 22], \"words\": []}, \"144\": {\"coords\": [473, 1432, 73, 29], \"words\": [{\"confidence\": \"95\", \"text\": \"0.00\"}]}, \"145\": {\"coords\": [92, 1435, 104, 29], \"words\": [{\"confidence\": \"92\", \"text\": \"Amount\"}]}, \"146\": {\"coords\": [199, 1435, 103, 34], \"words\": [{\"confidence\": \"96\", \"text\": \"Change\"}]}, \"147\": {\"coords\": [309, 1441, 20, 21], \"words\": []}, \"149\": {\"coords\": [230, 1474, 100, 30], \"words\": [{\"confidence\": \"96\", \"text\": \"Count:\"}]}, \"150\": {\"coords\": [398, 1474, 33, 28], \"words\": [{\"confidence\": \"79\", \"text\": \"5\"}]}, \"151\": {\"coords\": [92, 1476, 134, 34], \"words\": [{\"confidence\": \"96\", \"text\": \"Quantity\"}]}, \"153\": {\"coords\": [413, 1515, 27, 28], \"words\": [{\"confidence\": \"95\", \"text\": \"3\"}]}, \"154\": {\"coords\": [185, 1516, 72, 29], \"words\": [{\"confidence\": \"79\", \"text\": \"Iten\"}]}, \"155\": {\"coords\": [260, 1516, 85, 28], \"words\": [{\"confidence\": \"83\", \"text\": \"Sold:\"}]}, \"156\": {\"coords\": [92, 1517, 88, 28], \"words\": [{\"confidence\": \"95\", \"text\": \"Total\"}]}, \"158\": {\"coords\": [489, 1593, 160, 36], \"words\": [{\"confidence\": \"82\", \"text\": \"Amount\"}, {\"confidence\": \"71\", \"text\": \"(Ri)\"}]}, \"159\": {\"coords\": [153, 1596, 269, 37], \"words\": [{\"confidence\": \"27\", \"text\": \"SunmaryAmount\"}, {\"confidence\": \"27\", \"text\": \"(Ri)\"}]}, \"160\": {\"coords\": [429, 1596, 57, 28], \"words\": [{\"confidence\": \"89\", \"text\": \"6ST\"}]}, \"161\": {\"coords\": [92, 1598, 58, 29], \"words\": [{\"confidence\": \"93\", \"text\": \"GST\"}]}, \"162\": {\"coords\": [91, 1641, 575, 20], \"words\": []}, \"163\": {\"coords\": [534, 1672, 102, 32], \"words\": [{\"confidence\": \"47\", \"text\": \"a\"}, {\"confidence\": \"47\", \"text\": \"407\"}]}, \"164\": {\"coords\": [337, 1677, 89, 29], \"words\": [{\"confidence\": \"93\", \"text\": \"40.00\"}]}, \"165\": {\"coords\": [108, 1679, 88, 34], \"words\": [{\"confidence\": \"58\", \"text\": \"SRE6Z\"}]}, \"167\": {\"coords\": [63, 1720, 88, 30], \"words\": [{\"confidence\": \"95\", \"text\": \"THANK\"}]}, \"168\": {\"coords\": [153, 1720, 59, 29], \"words\": [{\"confidence\": \"81\", \"text\": \"YOu\"}]}}\n"
          ],
          "name": "stdout"
        }
      ]
    },
    {
      "cell_type": "code",
      "metadata": {
        "id": "S01nBnzuPhoT"
      },
      "source": [
        "import argparse\n",
        "import torch\n",
        "import json\n",
        "from torch import nn\n",
        "\n",
        "class MyModel0(nn.Module):\n",
        "    def __init__(self, vocab_size, embed_size, hidden_size):\n",
        "        super().__init__()\n",
        "        self.embed = nn.Embedding(vocab_size, embed_size)\n",
        "        self.lstm = nn.LSTM(embed_size, hidden_size, num_layers=2, bidirectional=True)\n",
        "        self.linear = nn.Linear(hidden_size * 2, 5)\n",
        "\n",
        "    def forward(self, inpt):\n",
        "        embedded = self.embed(inpt)\n",
        "        feature, _ = self.lstm(embedded)\n",
        "        oupt = self.linear(feature)\n",
        "        return oupt"
      ],
      "execution_count": 69,
      "outputs": []
    },
    {
      "cell_type": "code",
      "metadata": {
        "id": "LNCBouXIQqxz"
      },
      "source": [
        "device= 'cpu'\n",
        "hidden_size = 256\n",
        "device= torch.device('cpu')"
      ],
      "execution_count": 70,
      "outputs": []
    },
    {
      "cell_type": "code",
      "metadata": {
        "id": "ArYqCVL6QuPX"
      },
      "source": [
        "import json\n",
        "import os\n",
        "import random\n",
        "from os import path\n",
        "from string import ascii_uppercase, digits, punctuation\n",
        "import colorama\n",
        "import numpy\n",
        "import regex"
      ],
      "execution_count": 71,
      "outputs": []
    },
    {
      "cell_type": "code",
      "metadata": {
        "id": "4c2ggfPHQw0m"
      },
      "source": [
        "VOCAB= ascii_uppercase+digits+punctuation+\" \\t\\n\""
      ],
      "execution_count": 72,
      "outputs": []
    },
    {
      "cell_type": "code",
      "metadata": {
        "id": "duB--p8QkoxA",
        "outputId": "bc30d4c5-0365-4b2c-e6f7-b01a32ad18ee",
        "colab": {
          "base_uri": "https://localhost:8080/",
          "height": 35
        }
      },
      "source": [
        "VOCAB"
      ],
      "execution_count": 73,
      "outputs": [
        {
          "output_type": "execute_result",
          "data": {
            "application/vnd.google.colaboratory.intrinsic+json": {
              "type": "string"
            },
            "text/plain": [
              "'ABCDEFGHIJKLMNOPQRSTUVWXYZ0123456789!\"#$%&\\'()*+,-./:;<=>?@[\\\\]^_`{|}~ \\t\\n'"
            ]
          },
          "metadata": {
            "tags": []
          },
          "execution_count": 73
        }
      ]
    },
    {
      "cell_type": "code",
      "metadata": {
        "id": "kz9aejppQzcl"
      },
      "source": [
        "temp_text=''\n",
        "for i in range(len(etfo)):\n",
        "    temp_text=temp_text+etfo[i]\n",
        "etfo=temp_text"
      ],
      "execution_count": 76,
      "outputs": []
    },
    {
      "cell_type": "code",
      "metadata": {
        "id": "5shNs5t2V1ja"
      },
      "source": [
        "# conver lower text to uppper text in ETFO\n",
        "etfo= etfo.upper()"
      ],
      "execution_count": 75,
      "outputs": []
    },
    {
      "cell_type": "code",
      "metadata": {
        "id": "3j7C_vdGWFu8"
      },
      "source": [
        "def get_test_data():\n",
        "    \n",
        "    text = etfo\n",
        "    text_tensor = torch.zeros(len(text), 1, dtype=torch.long)\n",
        "    text_tensor[:, 0] = torch.LongTensor([VOCAB.find(c) for c in text])\n",
        "\n",
        "    return text_tensor.to(device)\n",
        "\n",
        "text_tensor = get_test_data()"
      ],
      "execution_count": 58,
      "outputs": []
    },
    {
      "cell_type": "code",
      "metadata": {
        "id": "0lyX83P1WLOR"
      },
      "source": [
        "def pred_to_dict(text, pred, prob):\n",
        "    res = {\"company\": (\"\", 0), \"date\": (\"\", 0), \"address\": (\"\", 0), \"total\": (\"\", 0)}\n",
        "    keys = list(res.keys())\n",
        "\n",
        "    seps = [0] + (numpy.nonzero(numpy.diff(pred))[0] + 1).tolist() + [len(pred)]\n",
        "    for i in range(len(seps) - 1):\n",
        "        pred_class = pred[seps[i]] - 1\n",
        "        if pred_class == -1:\n",
        "            continue\n",
        "\n",
        "        new_key = keys[pred_class]\n",
        "        new_prob = prob[seps[i] : seps[i + 1]].max()\n",
        "        if new_prob > res[new_key][1]:\n",
        "            res[new_key] = (text[seps[i] : seps[i + 1]], new_prob)\n",
        "\n",
        "    return {k: regex.sub(r\"[\\t\\n]\", \" \", v[0].strip()) for k, v in res.items()}"
      ],
      "execution_count": 59,
      "outputs": []
    },
    {
      "cell_type": "code",
      "metadata": {
        "id": "_N7z-DoCWM-Q",
        "outputId": "2de60544-e617-45d4-ff2f-435d40203db5",
        "colab": {
          "base_uri": "https://localhost:8080/"
        }
      },
      "source": [
        "print(text_tensor.shape)\n",
        "for i in range(len(text_tensor)-1):\n",
        "  if text_tensor[i]<0 or text_tensor[i]>70:\n",
        "    text_tensor = torch.cat([text_tensor[0:i], text_tensor[i+1:]])"
      ],
      "execution_count": 60,
      "outputs": [
        {
          "output_type": "stream",
          "text": [
            "torch.Size([340, 1])\n"
          ],
          "name": "stdout"
        }
      ]
    },
    {
      "cell_type": "code",
      "metadata": {
        "id": "leeiq5R_WOwG",
        "outputId": "a73bfa1e-704f-4932-bbcf-44b96ecb43a1",
        "colab": {
          "base_uri": "https://localhost:8080/"
        }
      },
      "source": [
        "\n",
        "def test():\n",
        "    \n",
        "    model = MyModel0(len(VOCAB), 16, hidden_size).to(device)\n",
        "    # dataset = MyDataset(None, args.device, test_path=\"/content/gdrive/My Drive/ResearchPaper/KIPE/data/test_dict.pth\")\n",
        "\n",
        "    model.load_state_dict(torch.load(\"/content/model.pth\"))\n",
        "\n",
        "    model.eval()\n",
        "  \n",
        "    with torch.no_grad():\n",
        "            oupt = model(text_tensor)\n",
        "            prob = torch.nn.functional.softmax(oupt, dim=2)\n",
        "            prob, pred = torch.max(prob, dim=2)\n",
        "            prob = prob.squeeze().cpu().numpy()\n",
        "            pred = pred.squeeze().cpu().numpy()\n",
        "            real_text = etfo\n",
        "            result = pred_to_dict(real_text, pred, prob)\n",
        "\n",
        "            with open(\"/content/\" + 'result' + \".json\", \"w\", encoding=\"utf-8\") as json_opened:\n",
        "                json.dump(result, json_opened, indent=4)\n",
        "\n",
        "            print(result)\n",
        "            #print(key)\n",
        "\n",
        "\n",
        "if __name__ == \"__main__\":\n",
        "    test()"
      ],
      "execution_count": 61,
      "outputs": [
        {
          "output_type": "stream",
          "text": [
            "{'company': 'BOOK TA_K (TAMAN DAYA) SDN BHD', 'date': '25/12/2018', 'address': '57 & 58, JALAN SAGU 18,  TAMAN DAYA  81100 JOHOR BAHRU.  DB STEHT', 'total': ''}\n"
          ],
          "name": "stdout"
        }
      ]
    },
    {
      "cell_type": "code",
      "metadata": {
        "id": "-u3Q67ALdkCJ"
      },
      "source": [
        "model = MyModel0(len(VOCAB), 16, hidden_size).to(device)\n",
        "# dataset = MyDataset(None, args.device, test_path=\"/content/gdrive/My Drive/ResearchPaper/KIPE/data/test_dict.pth\")\n",
        "\n",
        "model.load_state_dict(torch.load(\"/content/model.pth\"))\n",
        "\n",
        "model.eval()\n",
        "\n",
        "with torch.no_grad():\n",
        "        oupt = model(text_tensor)\n",
        "        prob = torch.nn.functional.softmax(oupt, dim=2)\n",
        "        prob, pred = torch.max(prob, dim=2)\n",
        "        prob = prob.squeeze().cpu().numpy()\n",
        "        pred = pred.squeeze().cpu().numpy()\n",
        "        real_text = etfo"
      ],
      "execution_count": 63,
      "outputs": []
    },
    {
      "cell_type": "code",
      "metadata": {
        "id": "nbH_EXrfdomY",
        "outputId": "a262a400-cbdd-4548-a605-2cad5567e14f",
        "colab": {
          "base_uri": "https://localhost:8080/"
        }
      },
      "source": [
        "pred"
      ],
      "execution_count": 64,
      "outputs": [
        {
          "output_type": "execute_result",
          "data": {
            "text/plain": [
              "array([1, 1, 1, 1, 1, 1, 1, 1, 1, 1, 1, 1, 1, 1, 0, 1, 1, 1, 1, 1, 1, 1,\n",
              "       1, 1, 1, 1, 1, 1, 1, 1, 1, 1, 1, 1, 1, 1, 1, 1, 1, 1, 1, 1, 1, 1,\n",
              "       1, 1, 0, 0, 0, 0, 3, 3, 3, 3, 3, 3, 3, 3, 3, 3, 3, 3, 3, 3, 3, 3,\n",
              "       3, 3, 3, 3, 3, 3, 3, 3, 3, 3, 3, 3, 3, 3, 3, 3, 3, 3, 3, 3, 3, 3,\n",
              "       3, 3, 3, 3, 3, 3, 3, 3, 3, 3, 3, 3, 3, 3, 3, 3, 3, 3, 3, 3, 3, 3,\n",
              "       3, 3, 3, 3, 3, 3, 0, 2, 2, 2, 2, 2, 2, 2, 2, 2, 2, 0, 0, 0, 0, 0,\n",
              "       0, 0, 0, 0, 0, 0, 0, 0, 0, 0, 0, 0, 0, 0, 0, 0, 0, 0, 0, 0, 0, 0,\n",
              "       0, 0, 0, 0, 0, 0, 0, 0, 0, 0, 0, 0, 0, 0, 0, 0, 0, 0, 0, 0, 0, 0,\n",
              "       0, 0, 0, 0, 0, 0, 0, 0, 0, 0, 0, 0, 0, 0, 0, 0, 0, 0, 0, 0, 0, 0,\n",
              "       0, 0, 0, 0, 0, 0, 0, 0, 0, 0, 0, 0, 0, 0, 0, 0, 0, 0, 0, 0, 0, 0,\n",
              "       0, 0, 0, 0, 0, 0, 0, 0, 0, 0, 0, 0, 0, 0, 0, 0, 0, 0, 0, 0, 0, 0,\n",
              "       0, 1, 1, 1, 1, 1, 1, 1, 1, 1, 1, 1, 1, 1, 1, 1, 1, 1, 1, 1, 1, 1,\n",
              "       1, 1, 1, 1, 1, 1, 1, 0, 0, 0, 0, 0, 3, 3, 3, 3, 3, 3, 3, 3, 3, 3,\n",
              "       3, 3, 3, 3, 3, 3, 3, 3, 3, 3, 3, 3, 3, 3, 3, 3, 3, 3, 3, 3, 3, 3,\n",
              "       3, 3, 3, 3, 3, 3, 3, 3, 3, 3, 3, 3, 3, 3, 3, 3, 3, 3, 3, 3, 3, 3,\n",
              "       3, 3, 3, 3, 3, 3, 3, 3, 3, 3])"
            ]
          },
          "metadata": {
            "tags": []
          },
          "execution_count": 64
        }
      ]
    },
    {
      "cell_type": "code",
      "metadata": {
        "id": "BedhuM0tdcsR",
        "outputId": "c2844ebb-2007-4f78-fb2b-72d331a318db",
        "colab": {
          "base_uri": "https://localhost:8080/"
        }
      },
      "source": [
        "text = real_text\n",
        "res = {\"company\": (\"\", 0), \"date\": (\"\", 0), \"address\": (\"\", 0), \"total\": (\"\", 0)}\n",
        "keys = list(res.keys())\n",
        "\n",
        "seps = [0] + (numpy.nonzero(numpy.diff(pred))[0] + 1).tolist() + [len(pred)]\n",
        "for i in range(len(seps) - 1):\n",
        "    pred_class = pred[seps[i]] - 1\n",
        "    #print(pred_class)\n",
        "    if pred_class == -1:\n",
        "        continue\n",
        "\n",
        "    new_key = keys[pred_class]\n",
        "    new_prob = prob[seps[i] : seps[i + 1]].max()\n",
        "    #print(new_key)\n",
        "    if new_prob > res[new_key][1]:\n",
        "        print(seps)\n",
        "        res[new_key] = (text[seps[i] : seps[i + 1]], new_prob)"
      ],
      "execution_count": 65,
      "outputs": [
        {
          "output_type": "stream",
          "text": [
            "[0, 14, 15, 46, 50, 116, 117, 127, 243, 271, 276, 340]\n",
            "[0, 14, 15, 46, 50, 116, 117, 127, 243, 271, 276, 340]\n",
            "[0, 14, 15, 46, 50, 116, 117, 127, 243, 271, 276, 340]\n",
            "[0, 14, 15, 46, 50, 116, 117, 127, 243, 271, 276, 340]\n"
          ],
          "name": "stdout"
        }
      ]
    },
    {
      "cell_type": "code",
      "metadata": {
        "id": "kFYw3mMBhEn1",
        "outputId": "1acd72a3-d1f0-439c-f116-ff361efc2d46",
        "colab": {
          "base_uri": "https://localhost:8080/",
          "height": 102
        }
      },
      "source": [
        "text"
      ],
      "execution_count": 66,
      "outputs": [
        {
          "output_type": "execute_result",
          "data": {
            "application/vnd.google.colaboratory.intrinsic+json": {
              "type": "string"
            },
            "text/plain": [
              "'TAN WOON YANN \\nBOOK TA_K (TAMAN DAYA) SDN BHD \\n$5.57 & 58, JALAN SAGU 18, \\nTAMAN DAYA \\n81100 JOHOR BAHRU. \\nDB STEHT \\n25/12/2018 8:13:39 PM \\nCASH BILL \\nCODE/DESC \\nQRY \\nROUR DING ADJUSTMENT \\nROUND: :D TOTAL (RM); \\nCASH 9 \\' 40.00 CHANGE 00: DO 0 GOODS SOLD ARE NOT RETURINAT AK \\n\"WAP, 00, \\n?-00 \\nHOPE, F, ROB ATE LS OO FA 7 0, GOAE YET. ATA! \\n'"
            ]
          },
          "metadata": {
            "tags": []
          },
          "execution_count": 66
        }
      ]
    },
    {
      "cell_type": "code",
      "metadata": {
        "id": "CK_gy9dbhbnf",
        "outputId": "33afd67b-f73b-4515-a8aa-e708400b8ad7",
        "colab": {
          "base_uri": "https://localhost:8080/"
        }
      },
      "source": [
        "pred"
      ],
      "execution_count": 67,
      "outputs": [
        {
          "output_type": "execute_result",
          "data": {
            "text/plain": [
              "array([1, 1, 1, 1, 1, 1, 1, 1, 1, 1, 1, 1, 1, 1, 0, 1, 1, 1, 1, 1, 1, 1,\n",
              "       1, 1, 1, 1, 1, 1, 1, 1, 1, 1, 1, 1, 1, 1, 1, 1, 1, 1, 1, 1, 1, 1,\n",
              "       1, 1, 0, 0, 0, 0, 3, 3, 3, 3, 3, 3, 3, 3, 3, 3, 3, 3, 3, 3, 3, 3,\n",
              "       3, 3, 3, 3, 3, 3, 3, 3, 3, 3, 3, 3, 3, 3, 3, 3, 3, 3, 3, 3, 3, 3,\n",
              "       3, 3, 3, 3, 3, 3, 3, 3, 3, 3, 3, 3, 3, 3, 3, 3, 3, 3, 3, 3, 3, 3,\n",
              "       3, 3, 3, 3, 3, 3, 0, 2, 2, 2, 2, 2, 2, 2, 2, 2, 2, 0, 0, 0, 0, 0,\n",
              "       0, 0, 0, 0, 0, 0, 0, 0, 0, 0, 0, 0, 0, 0, 0, 0, 0, 0, 0, 0, 0, 0,\n",
              "       0, 0, 0, 0, 0, 0, 0, 0, 0, 0, 0, 0, 0, 0, 0, 0, 0, 0, 0, 0, 0, 0,\n",
              "       0, 0, 0, 0, 0, 0, 0, 0, 0, 0, 0, 0, 0, 0, 0, 0, 0, 0, 0, 0, 0, 0,\n",
              "       0, 0, 0, 0, 0, 0, 0, 0, 0, 0, 0, 0, 0, 0, 0, 0, 0, 0, 0, 0, 0, 0,\n",
              "       0, 0, 0, 0, 0, 0, 0, 0, 0, 0, 0, 0, 0, 0, 0, 0, 0, 0, 0, 0, 0, 0,\n",
              "       0, 1, 1, 1, 1, 1, 1, 1, 1, 1, 1, 1, 1, 1, 1, 1, 1, 1, 1, 1, 1, 1,\n",
              "       1, 1, 1, 1, 1, 1, 1, 0, 0, 0, 0, 0, 3, 3, 3, 3, 3, 3, 3, 3, 3, 3,\n",
              "       3, 3, 3, 3, 3, 3, 3, 3, 3, 3, 3, 3, 3, 3, 3, 3, 3, 3, 3, 3, 3, 3,\n",
              "       3, 3, 3, 3, 3, 3, 3, 3, 3, 3, 3, 3, 3, 3, 3, 3, 3, 3, 3, 3, 3, 3,\n",
              "       3, 3, 3, 3, 3, 3, 3, 3, 3, 3])"
            ]
          },
          "metadata": {
            "tags": []
          },
          "execution_count": 67
        }
      ]
    },
    {
      "cell_type": "code",
      "metadata": {
        "id": "qjTtCMDjiMfe"
      },
      "source": [
        ""
      ],
      "execution_count": null,
      "outputs": []
    }
  ]
}